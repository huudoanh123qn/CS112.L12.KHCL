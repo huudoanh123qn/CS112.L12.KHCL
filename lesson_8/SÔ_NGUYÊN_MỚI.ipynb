{
  "nbformat": 4,
  "nbformat_minor": 0,
  "metadata": {
    "colab": {
      "name": "SÔ NGUYÊN MỚI.ipynb",
      "provenance": []
    },
    "kernelspec": {
      "name": "python3",
      "display_name": "Python 3"
    }
  },
  "cells": [
    {
      "cell_type": "markdown",
      "metadata": {
        "id": "IgQys_8KCctd"
      },
      "source": [
        "**Abstraction**\r\n",
        "\r\n",
        "Xác định số nguyên lớn nhất m chia hết cho 3 và khác n ( không quá 100 chữ số) ở đúng một chữ số.\r\n",
        "\r\n",
        "**Pattern Recognition**\r\n",
        "\r\n",
        "Quy hoạch động\r\n",
        "\r\n",
        "Ý tưởng:\r\n",
        "\r\n",
        "Dựa vào yêu cầu đề bài ta sẽ chia bài toán thành 2 bài toán con nhỏ:\r\n",
        "\r\n",
        "    1. Bài toán thứ nhất phải tìm một số m chia hết cho 3. \r\n",
        "      - Ở nhiệm vụ này thì ta sẽ phải giải quyết bằng cách sử dụng các phép chia lấy dư\r\n",
        "    2. Bài toán thứ hai là phải thỏa mãn bài toán thứ nhất và số m phải chia hết cho 3 đồng thời chỉ khác n ở đúng một chữ số.\r\n",
        "      - Ở nhiệm vụ này thì ta phải xử lý từng số trên n theo chiều từ phải sang phải.\r\n",
        "  \r\n",
        "\r\n"
      ]
    },
    {
      "cell_type": "code",
      "metadata": {
        "colab": {
          "base_uri": "https://localhost:8080/"
        },
        "id": "WBTwBy0bGNVc",
        "outputId": "16678b22-cdb9-45de-ce23-b755979296a8"
      },
      "source": [
        "n = input()\r\n",
        "arr = list(map(int, list(n)))\r\n",
        "sum1 = sum(arr)\r\n",
        "arr1 = [9,8,7,6,5,4,3,2,1,0]\r\n",
        "def change_char(input_string,value, index):\r\n",
        "    first_part = input_string[:index]\r\n",
        "    second_part = input_string[index+1:]\r\n",
        "    return first_part +value + second_part\r\n",
        "def newint():\r\n",
        "    for i in range(len(arr)):\r\n",
        "        t= 0\r\n",
        "        if arr[i] ==9:\r\n",
        "            if len(arr)-1==i:\r\n",
        "                print(change_char(n,\"6\",i))\r\n",
        "                return\r\n",
        "            else:\r\n",
        "                continue\r\n",
        "        elif arr[i]==8:\r\n",
        "            if sum1%3==2:\r\n",
        "                print(change_char(n,\"9\",i))\r\n",
        "                return\r\n",
        "            elif len(arr)-1==i:\r\n",
        "                print(change_char(n,\"7\",i))\r\n",
        "                return\r\n",
        "        elif arr[i]==7:\r\n",
        "            if sum1%3==1:\r\n",
        "                print(change_char(n,\"9\",i))\r\n",
        "                return\r\n",
        "            elif sum1%3==2:\r\n",
        "                print(change_char(n,\"8\",i))\r\n",
        "                return\r\n",
        "            else:\r\n",
        "                if len(arr)-1==i:\r\n",
        "                    print(change_char(n,\"4\",i))\r\n",
        "                    return\r\n",
        "        else:\r\n",
        "            for j in arr1:\r\n",
        "                if (sum1-arr[i]+j)%3==0:\r\n",
        "                    print(change_char(n,str(j),i))\r\n",
        "                    t =1\r\n",
        "                if t ==1:\r\n",
        "                  break\r\n",
        "        if t==1:\r\n",
        "          break\r\n",
        "                              \r\n",
        "newint()"
      ],
      "execution_count": 4,
      "outputs": [
        {
          "output_type": "stream",
          "text": [
            "123\n",
            "723\n"
          ],
          "name": "stdout"
        }
      ]
    }
  ]
}